{
 "cells": [
  {
   "cell_type": "code",
   "execution_count": 1,
   "metadata": {},
   "outputs": [
    {
     "name": "stdout",
     "output_type": "stream",
     "text": [
      "importing Jupyter notebook from project_models.ipynb\n"
     ]
    }
   ],
   "source": [
    "# Libraries\n",
    "import torch\n",
    "from torch.utils.data import Dataset, DataLoader\n",
    "import numpy as np\n",
    "import torch.nn as nn\n",
    "import torch.optim as optim\n",
    "import numpy as np\n",
    "from sklearn.model_selection import train_test_split\n",
    "import matplotlib.pyplot as plt\n",
    "import time\n",
    "from sklearn.preprocessing import StandardScaler, RobustScaler\n",
    "\n",
    "from torch.utils.data import DataLoader, random_split\n",
    "import pandas as pd\n",
    "import os, re, struct, socket, csv\n",
    "from collections import deque\n",
    "\n",
    "\n",
    "import import_ipynb\n",
    "import project_models\n"
   ]
  },
  {
   "cell_type": "code",
   "execution_count": 2,
   "metadata": {},
   "outputs": [
    {
     "name": "stdout",
     "output_type": "stream",
     "text": [
      "Using GPU: NVIDIA GeForce RTX 3060\n"
     ]
    }
   ],
   "source": [
    "#GPU Checking\n",
    "if torch.cuda.is_available():\n",
    "    device = torch.device(\"cuda\")\n",
    "    print(f\"Using GPU: {torch.cuda.get_device_name(0)}\")\n",
    "else:\n",
    "    device = torch.device(\"cpu\")\n",
    "    print(\"GPU is not available. Using CPU.\")\n",
    "\n",
    "\n",
    "os.environ['CUDA_LAUNCH_BLOCKING'] = '1'"
   ]
  },
  {
   "cell_type": "markdown",
   "metadata": {},
   "source": [
    "Data Preprocessing"
   ]
  },
  {
   "cell_type": "code",
   "execution_count": 3,
   "metadata": {},
   "outputs": [],
   "source": [
    "#IDS2017_Monday ==== No anomolies\n",
    "#IDS2017_data = 'data\\TrafficLabelling\\Monday-WorkingHours.pcap_ISCX.csv'\n",
    "#IDS2017_DF = pd.DataFrame(pd.read_csv(IDS2017_data))\n",
    "\n",
    "#print(IDS2017_DF.columns)\n",
    "#IDS2017_DF.head()"
   ]
  },
  {
   "cell_type": "code",
   "execution_count": 4,
   "metadata": {},
   "outputs": [],
   "source": [
    "## KDDcup Corrected File\n",
    "#KDD_fp = 'data\\kddcup\\kddcup_corrected.csv'\n",
    "#KDD_DF = pd.DataFrame(pd.read_csv(KDD_fp))\n",
    "#KDD_DF.head()"
   ]
  },
  {
   "cell_type": "code",
   "execution_count": 5,
   "metadata": {},
   "outputs": [],
   "source": [
    "# Helper function to convert IP addresses into integers\n",
    "def encode_ip(ip_address):\n",
    "    try:\n",
    "        return struct.unpack(\"!L\", socket.inet_aton(ip_address))[0]\n",
    "    except socket.error:\n",
    "        # Handle the case for invalid IP addresses\n",
    "        return 0"
   ]
  },
  {
   "cell_type": "markdown",
   "metadata": {},
   "source": [
    "Custom Dataset Construction"
   ]
  },
  {
   "cell_type": "code",
   "execution_count": 6,
   "metadata": {},
   "outputs": [],
   "source": [
    "class NetworkDataset(Dataset):\n",
    "    def __init__(self, file_path, seq_duration=5, time_unit='minute', num_entries=None, window_size=50, decay=0.9):\n",
    "        self.window_size = window_size\n",
    "        self.decay = decay\n",
    "        self.data = self.load_and_process_data(file_path, num_entries)\n",
    "        self.seq_duration = seq_duration\n",
    "        self.time_unit = time_unit\n",
    "        self.seq_length = self.calculate_sequence_length()\n",
    "        self.scale_features()\n",
    "\n",
    "    def load_and_process_data(self, file_path, num_entries):\n",
    "        data = []\n",
    "        with open(file_path, 'r') as file:\n",
    "            reader = csv.DictReader(file)\n",
    "            reader.fieldnames = [column.strip() for column in reader.fieldnames] # Removes Whitespace from headernames\n",
    "            \n",
    "            rolling_stats = {\n",
    "                'Packet Length Mean': deque(maxlen=self.window_size),\n",
    "                'Packet Length Std': deque(maxlen=self.window_size),\n",
    "                #'Packet Length Max': deque(maxlen=self.window_size),  # If you decide it should be a rolling metric\n",
    "                #'SYN Flag Count': deque(maxlen=self.window_size),     # If rolling count is needed\n",
    "            }\n",
    "            ema_packet_size = 0\n",
    "\n",
    "            for i, row in enumerate(reader):\n",
    "                if num_entries is not None and i >= num_entries:\n",
    "                    break\n",
    "                try:\n",
    "                    processed_row = self.preprocess_data(row, rolling_stats, ema_packet_size)\n",
    "                    ema_packet_size = processed_row['EMA_Packet_Size']\n",
    "                    data.append(processed_row)\n",
    "                except ValueError as e:\n",
    "                    print(f\"Error processing row {i}: {e}\")\n",
    "                    continue #Skip or Stop\n",
    "        return data\n",
    "    \n",
    "    def update_rolling_stats(self, rolling_stats, numeric_fields, processed_row):\n",
    "        for key in ['Packet Length Mean', 'Packet Length Std',]: #'Packet Length Max', 'SYN Flag Count']:\n",
    "            rolling_stats[key].append(numeric_fields[key])\n",
    "            processed_row[f'Rolling_{key}'] = sum(rolling_stats[key]) / len(rolling_stats[key])\n",
    "\n",
    "    def preprocess_data(self, row, rolling_stats, prev_ema_packet_size):\n",
    "        # Preprocess and encode features\n",
    "        processed_row = {}\n",
    "        \n",
    "        # Add the 'Timestamp' column\n",
    "        processed_row['Timestamp'] = row['Timestamp']\n",
    "\n",
    "        # Categorical Encoding\n",
    "        processed_row['source_encoded'] = encode_ip(row['Source IP'])\n",
    "        processed_row['destination_encoded'] = encode_ip(row['Destination IP'])\n",
    "        processed_row['Protocol'] = row['Protocol']\n",
    "\n",
    "        # Numeric fields\n",
    "        numeric_fields = {\n",
    "            'Flow Duration': float(row.get('Flow Duration', 0)),\n",
    "            'Total Fwd Packets': float(row.get('Total Fwd Packets', 0)),\n",
    "            'Total Backward Packets': float(row.get('Total Backward Packets', 0)),\n",
    "            'Total Length of Fwd Packets': float(row.get('Total Length of Fwd Packets', 0)),\n",
    "            'Total Length of Bwd Packets': float(row.get('Total Length of Bwd Packets', 0)),\n",
    "            'Packet Length Mean': float(row.get('Packet Length Mean', 0)),\n",
    "            'Packet Length Std': float(row.get('Packet Length Std', 0)),\n",
    "            'Flow Bytes/s': float(row.get('Flow Bytes/s', 0) if row['Flow Bytes/s'] not in ['', None] else 0.0),\n",
    "        }\n",
    "\n",
    "        # Use numeric_fields for calculations\n",
    "        processed_row.update(numeric_fields)\n",
    "\n",
    "        try:\n",
    "            processed_row['Fwd_to_Bwd_Packets'] = numeric_fields['Total Fwd Packets'] / (numeric_fields['Total Backward Packets'] + 0.001)\n",
    "            processed_row['Fwd_to_Bwd_Bytes'] = numeric_fields['Total Length of Fwd Packets'] / (numeric_fields['Total Length of Bwd Packets'] + 0.001)\n",
    "        except ZeroDivisionError:\n",
    "            processed_row['Fwd_to_Bwd_Packets'] = 0.0\n",
    "            processed_row['Fwd_to_Bwd_Bytes'] = 0.0\n",
    "\n",
    "        # Rolling and EMA Calcs\n",
    "        self.update_rolling_stats(rolling_stats, numeric_fields, processed_row)\n",
    "        ema_packet_size = self.decay * prev_ema_packet_size + (1 - self.decay) * numeric_fields['Packet Length Mean']\n",
    "        processed_row['EMA_Packet_Size'] = ema_packet_size\n",
    "\n",
    "        #Calculations\n",
    "        total_length = numeric_fields['Total Length of Fwd Packets'] + numeric_fields['Total Length of Bwd Packets']\n",
    "        processed_row['Total Length'] = total_length\n",
    "\n",
    "        try:\n",
    "            processed_row['Bandwidth'] = total_length #/ (numeric_fields['Flow Duration'] / 1000000.0)\n",
    "            processed_row['Throughput'] = (numeric_fields['Total Fwd Packets'] + numeric_fields['Total Backward Packets']) / (numeric_fields['Flow Duration'] / 1000000.0)\n",
    "            processed_row['Latency'] = numeric_fields['Flow Duration'] / 1000000.0\n",
    "        except ZeroDivisionError:\n",
    "            processed_row['Bandwidth'] = 0.0\n",
    "            processed_row['Throughput'] = 0.0\n",
    "            processed_row['Latency'] = 0.0\n",
    "\n",
    "        processed_row['Label'] = 0 if row['Label'] == 'BENIGN' else 1\n",
    "\n",
    "        # Check for NaNs in numeric fields only\n",
    "        #numeric_values = np.array(list(numeric_fields.values()), dtype=np.float32)\n",
    "        #if np.isnan(numeric_values).any():\n",
    "        #    print(\"NaN found after processing a row:\", processed_row)\n",
    "\n",
    "        return processed_row\n",
    "    \n",
    "\n",
    "    def scale_features(self):\n",
    "        # Scale model input features\n",
    "        features_to_scale = ['Bandwidth', 'Throughput', 'Latency', 'Flow Duration', \n",
    "            'Fwd_to_Bwd_Packets', 'Fwd_to_Bwd_Bytes', 'Rolling_Mean_Packet_Size', \n",
    "            'Rolling_Std_Packet_Size', 'Total Length', 'EMA_Packet_Size', \n",
    "            'Rolling_Max_Packet_Size', 'Rolling_SYN_Flag_Count']\n",
    "        \n",
    "        # Creating a list to hold all features\n",
    "        features = []\n",
    "        for row in self.data:\n",
    "            row_features = []\n",
    "            for feature in features_to_scale:\n",
    "                value = row.get(feature, 0)  # Default to 0 if feature is missing\n",
    "                row_features.append(value)\n",
    "            features.append(row_features)\n",
    "\n",
    "        features = np.array(features, dtype=np.float32)\n",
    "        features = np.where(np.isnan(features), np.mean(features, axis=0), features)  # Impute NaNs with column mean\n",
    "\n",
    "        # Apply robust scaling\n",
    "        scaler = RobustScaler()\n",
    "        scaled_features = scaler.fit_transform(features)\n",
    "        \n",
    "        for i, row in enumerate(self.data):\n",
    "            for j, feature in enumerate(features_to_scale):\n",
    "                row[feature] = scaled_features[i][j]\n",
    "\n",
    "\n",
    "    def get_data(self):\n",
    "        return self.data\n",
    "\n",
    "\n",
    "    def __len__(self):\n",
    "        return len(self.data)\n",
    "    \n",
    "\n",
    "    def calculate_sequence_length(self):\n",
    "        # Generalize time unit handling using a dictionary\n",
    "        time_units = {\n",
    "            'second': 'seconds',\n",
    "            'minute': 'minutes',\n",
    "            'hour': 'hours',\n",
    "            'day': 'days'\n",
    "        }\n",
    "\n",
    "        if self.time_unit not in time_units:\n",
    "            raise ValueError(f\"Unsupported time unit: {self.time_unit}\")\n",
    "\n",
    "        # Calculate time delta based on the specified duration and unit\n",
    "        time_delta = pd.Timedelta(**{time_units[self.time_unit]: self.seq_duration})\n",
    "\n",
    "        # Pre-parse timestamps if not already done\n",
    "        if isinstance(self.data[0]['Timestamp'], str):\n",
    "            for row in self.data:\n",
    "                row['Timestamp'] = pd.to_datetime(row['Timestamp'])\n",
    "\n",
    "        # Compute sequence length within the specified duration\n",
    "        start_time = self.data[0]['Timestamp']\n",
    "        end_time = start_time + time_delta\n",
    "        seq_length = sum(1 for row in self.data if start_time <= row['Timestamp'] < end_time)\n",
    "\n",
    "        return seq_length\n",
    "\n",
    "\n",
    "    def __getitem__(self, idx):\n",
    "        start_idx = idx * self.seq_length\n",
    "        end_idx = start_idx + self.seq_length\n",
    "\n",
    "        sequence_data = []\n",
    "        sequence_targets = []\n",
    "\n",
    "        for i in range(start_idx, end_idx):\n",
    "            if i >= len(self.data):\n",
    "                break\n",
    "            row = self.data[i]\n",
    "            features = [\n",
    "                row['source_encoded'],\n",
    "                row['destination_encoded'],\n",
    "                row['Total Length'],\n",
    "                row['Flow Duration'],\n",
    "                row['Fwd_to_Bwd_Packets'],\n",
    "                row['Fwd_to_Bwd_Bytes'],\n",
    "                row['Rolling_Mean_Packet_Size'],\n",
    "                row['Rolling_Std_Packet_Size'],\n",
    "                row['EMA_Packet_Size'],\n",
    "                # Ensure all numeric features added for scaling are included here\n",
    "            ] + [int(row['Protocol'] == protocol) for protocol in ['6', '17', '0']] # One-hot encoding of Protocol\n",
    "\n",
    "            sequence_data.append(features)\n",
    "\n",
    "            targets = [\n",
    "                row['Bandwidth'],\n",
    "                row['Latency'],\n",
    "                row['Throughput'],\n",
    "                #row['Label']\n",
    "            ]\n",
    "            sequence_targets.append(targets)\n",
    "\n",
    "        # Ensure there are default features and targets for padding if needed\n",
    "        if not sequence_data:\n",
    "            default_feature_length = 12  # Update based on the number of features you expect\n",
    "            features = [0] * default_feature_length\n",
    "            sequence_data.append(features)\n",
    "        \n",
    "        if not sequence_targets:\n",
    "            default_target_length = 3  # Update based on the number of targets you expect\n",
    "            targets = [0] * default_target_length\n",
    "            sequence_targets.append(targets)\n",
    "\n",
    "        # Pad the sequence if it has less than seq_length entries\n",
    "        padding_length = self.seq_length - len(sequence_data)\n",
    "        if padding_length > 0:\n",
    "            padding_data = [0] * len(features)\n",
    "            padding_targets = [0] * len(targets)\n",
    "            sequence_data.extend([padding_data] * padding_length)\n",
    "            sequence_targets.extend([padding_targets] * padding_length)\n",
    "\n",
    "        sequence_data = torch.tensor(sequence_data, dtype=torch.float32)\n",
    "        sequence_data = sequence_data.view(self.seq_length, -1)  # Reshape to (seq_length, input_size)\n",
    "\n",
    "        sequence_targets = torch.tensor(sequence_targets, dtype=torch.float32)\n",
    "\n",
    "        # Replace NaN values in the labels with a default value\n",
    "        sequence_targets = torch.nan_to_num(sequence_targets, nan=0.0)\n",
    "\n",
    "        # Replace inf values in the labels with a default value\n",
    "        sequence_targets = torch.where(torch.isinf(sequence_targets), torch.tensor(0.0), sequence_targets)\n",
    "\n",
    "        return sequence_data, sequence_targets"
   ]
  },
  {
   "cell_type": "code",
   "execution_count": 7,
   "metadata": {},
   "outputs": [],
   "source": [
    "def collate_fn(batch):\n",
    "    sequence_data, sequence_targets = zip(*batch)\n",
    "    \n",
    "    # Pad the sequences to the maximum length in the batch\n",
    "    padded_sequence_data = torch.nn.utils.rnn.pad_sequence(sequence_data, batch_first=True)\n",
    "    \n",
    "    # Stack the targets into a tensor\n",
    "    sequence_targets = torch.stack(sequence_targets)\n",
    "    \n",
    "    #print(\"Padded sequence data shape:\", padded_sequence_data.shape)\n",
    "    #print(\"Stacked sequence targets shape:\", sequence_targets.shape)\n",
    "    \n",
    "    return padded_sequence_data, sequence_targets"
   ]
  },
  {
   "cell_type": "code",
   "execution_count": 8,
   "metadata": {},
   "outputs": [
    {
     "name": "stdout",
     "output_type": "stream",
     "text": [
      "Flow ID              0\n",
      " Source IP           0\n",
      " Source Port         0\n",
      " Destination IP      0\n",
      " Destination Port    0\n",
      "                    ..\n",
      "Idle Mean            0\n",
      " Idle Std            0\n",
      " Idle Max            0\n",
      " Idle Min            0\n",
      " Label               0\n",
      "Length: 85, dtype: int64\n"
     ]
    }
   ],
   "source": [
    "import missingno as msno\n",
    "\n",
    "# Load your dataset\n",
    "data = pd.read_csv('data\\\\Tempdir\\\\Monday-WorkingHours.pcap_ISCX.csv')\n",
    "\n",
    "nan_counts = data.isna().sum()\n",
    "print(nan_counts)\n",
    "\n",
    "\n",
    "# Visualize missing values as a matrix\n",
    "#msno.matrix(data)"
   ]
  },
  {
   "cell_type": "code",
   "execution_count": 9,
   "metadata": {},
   "outputs": [],
   "source": [
    "## Using the Dataset\n",
    "batch_size = 400\n",
    "dataset = NetworkDataset('data\\\\Tempdir\\\\Monday-WorkingHours.pcap_ISCX.csv', seq_duration= 5, time_unit='minute', num_entries= 500000, window_size=10, decay=0.9)\n",
    "\n",
    "# Training and Test set splits\n",
    "train_size = int(len(dataset) * 0.8)\n",
    "test_size = len(dataset) - train_size\n",
    "\n",
    "train_dataset, test_dataset = random_split(dataset, [train_size, test_size])\n",
    "\n",
    "train_loader = DataLoader(train_dataset, batch_size=batch_size, shuffle=True, drop_last=True, collate_fn=collate_fn)\n",
    "test_loader = DataLoader(test_dataset, batch_size=batch_size, shuffle=False, drop_last=True, collate_fn=collate_fn)"
   ]
  },
  {
   "cell_type": "code",
   "execution_count": 10,
   "metadata": {},
   "outputs": [],
   "source": [
    "#for seq, labels in train_loader:\n",
    "    #assert not torch.isnan(seq).any(), \"NaN found in input sequences\"\n",
    "    #assert not torch.isnan(labels).any(), \"NaN found in labels\"\n"
   ]
  },
  {
   "cell_type": "code",
   "execution_count": null,
   "metadata": {},
   "outputs": [],
   "source": [
    "for i, data in enumerate(train_loader):\n",
    "    try:\n",
    "        sequence_data, sequence_targets = data  # Unpack the tuple\n",
    "        features = sequence_data\n",
    "        targets = sequence_targets\n",
    "\n",
    "        print(\"Features:\", features)\n",
    "        print(\"Targets:\")\n",
    "        print(\"  Bandwidth:\", targets[:, 0])\n",
    "        print(\"  Latency:\", targets[:, 1])\n",
    "        print(\"  Throughput:\", targets[:, 2])\n",
    "        #print(\"  Label:\", targets[:, 3])\n",
    "    except Exception as e:\n",
    "        print(f\"Error processing train data at index {i}: {e}\")\n",
    "\n",
    "    if i == 1:  # Just check the first couple of batches\n",
    "        break\n",
    "\n",
    "for i, data in enumerate(test_loader):\n",
    "    try:\n",
    "        sequence_data, sequence_targets = data  # Unpack the tuple\n",
    "        features = sequence_data\n",
    "        targets = sequence_targets\n",
    "\n",
    "        print(f\"Batch {i+1} from test_loader:\")\n",
    "        print(\"Features:\", features)\n",
    "        print(\"Targets:\")\n",
    "        print(\"  Bandwidth:\", targets[:, 0])\n",
    "        print(\"  Latency:\", targets[:, 1])\n",
    "        print(\"  Throughput:\", targets[:, 2])\n",
    "        #print(\"  Label:\", targets[:, 3])\n",
    "    except Exception as e:\n",
    "        print(f\"Error processing test data at index {i}: {e}\")\n",
    "\n",
    "    if i == 0:  # Just check the first batch\n",
    "        break\n",
    "\n",
    "for i, (inputs, targets) in enumerate(train_loader):\n",
    "    print(inputs.shape)  # This should print something like (batch_size, seq_length, 11)\n",
    "    if i == 0:  # Just check the first batch to avoid flooding the output\n",
    "        break\n",
    "\n"
   ]
  },
  {
   "cell_type": "code",
   "execution_count": 16,
   "metadata": {},
   "outputs": [
    {
     "name": "stdout",
     "output_type": "stream",
     "text": [
      "Epoch 1/20, Train Loss: 8.004488, Validation Loss: 9.097270\n",
      "Epoch 2/20, Train Loss: 7.919523, Validation Loss: 9.074398\n",
      "Epoch 3/20, Train Loss: 7.907776, Validation Loss: 9.065606\n",
      "Epoch 4/20, Train Loss: 8.044070, Validation Loss: 9.057779\n",
      "Epoch 5/20, Train Loss: 7.959103, Validation Loss: 9.054985\n",
      "Epoch 6/20, Train Loss: 7.888760, Validation Loss: 9.048266\n",
      "Epoch 7/20, Train Loss: 7.884905, Validation Loss: 9.044698\n",
      "Epoch 8/20, Train Loss: 7.881372, Validation Loss: 9.039650\n",
      "Epoch 9/20, Train Loss: 7.878119, Validation Loss: 9.036695\n",
      "Epoch 10/20, Train Loss: 7.874360, Validation Loss: 9.039313\n",
      "Epoch 11/20, Train Loss: 7.872858, Validation Loss: 9.031636\n",
      "Epoch 12/20, Train Loss: 7.871226, Validation Loss: 9.030286\n",
      "Epoch 13/20, Train Loss: 7.867557, Validation Loss: 9.033104\n",
      "Epoch 14/20, Train Loss: 7.866906, Validation Loss: 9.026824\n",
      "Epoch 15/20, Train Loss: 7.866384, Validation Loss: 9.026163\n",
      "Epoch 16/20, Train Loss: 7.864820, Validation Loss: 9.024064\n",
      "Epoch 17/20, Train Loss: 7.863687, Validation Loss: 9.022615\n",
      "Epoch 18/20, Train Loss: 7.861744, Validation Loss: 9.020855\n",
      "Epoch 19/20, Train Loss: 7.861226, Validation Loss: 9.021966\n",
      "Epoch 20/20, Train Loss: 7.860823, Validation Loss: 9.018772\n"
     ]
    }
   ],
   "source": [
    "input_size = 12\n",
    "hidden_size = 256\n",
    "output_size = 3\n",
    "dropout = 0\n",
    "bidirectional = False\n",
    "\n",
    "model = project_models.ntwkRNN(input_size, hidden_size, output_size, dropout, bidirectional).to(device)\n",
    "\n",
    "epochs = 20\n",
    "criterion = nn.MSELoss()\n",
    "optimizer = optim.Adam(model.parameters(), lr = 0.001)\n",
    "\n",
    "rnn_tloss, rnn_vloss, = project_models.train_RNN(epochs, model, criterion, optimizer, train_loader, test_loader, device)\n",
    "torch.save(model.state_dict(), 'RNN_model')"
   ]
  },
  {
   "cell_type": "code",
   "execution_count": 17,
   "metadata": {},
   "outputs": [
    {
     "name": "stdout",
     "output_type": "stream",
     "text": [
      "Epoch 1/20, Train Loss: 8.058589, Validation Loss: 9.142667\n",
      "Epoch 2/20, Train Loss: 7.958004, Validation Loss: 9.109473\n",
      "Epoch 3/20, Train Loss: 7.938340, Validation Loss: 9.092542\n",
      "Epoch 4/20, Train Loss: 7.929383, Validation Loss: 9.088056\n",
      "Epoch 5/20, Train Loss: 7.923814, Validation Loss: 9.081726\n",
      "Epoch 6/20, Train Loss: 7.918315, Validation Loss: 9.075188\n",
      "Epoch 7/20, Train Loss: 7.914115, Validation Loss: 9.071047\n",
      "Epoch 8/20, Train Loss: 7.910532, Validation Loss: 9.067946\n",
      "Epoch 9/20, Train Loss: 7.907092, Validation Loss: 9.064273\n",
      "Epoch 10/20, Train Loss: 7.903833, Validation Loss: 9.062796\n",
      "Epoch 11/20, Train Loss: 7.900848, Validation Loss: 9.058531\n",
      "Epoch 12/20, Train Loss: 7.897209, Validation Loss: 9.054914\n",
      "Epoch 13/20, Train Loss: 7.894449, Validation Loss: 9.052148\n",
      "Epoch 14/20, Train Loss: 7.891614, Validation Loss: 9.050003\n",
      "Epoch 15/20, Train Loss: 7.889755, Validation Loss: 9.046863\n",
      "Epoch 16/20, Train Loss: 7.887285, Validation Loss: 9.046746\n",
      "Epoch 17/20, Train Loss: 7.884715, Validation Loss: 9.047245\n",
      "Epoch 18/20, Train Loss: 7.883365, Validation Loss: 9.042270\n",
      "Epoch 19/20, Train Loss: 7.880712, Validation Loss: 9.039017\n",
      "Epoch 20/20, Train Loss: 7.878426, Validation Loss: 9.037530\n"
     ]
    }
   ],
   "source": [
    "#GRU\n",
    "model = project_models.ntwkGRU(input_size, hidden_size, output_size, dropout, bidirectional).to(device)\n",
    "optimizer = optim.Adam(model.parameters(), lr = 0.001)\n",
    "\n",
    "GRU_tloss, GRU_vloss, = project_models.train_RNN(epochs, model, criterion, optimizer, train_loader, test_loader, device)\n",
    "torch.save(model.state_dict(), 'GRU_model')"
   ]
  },
  {
   "cell_type": "code",
   "execution_count": 18,
   "metadata": {},
   "outputs": [
    {
     "name": "stdout",
     "output_type": "stream",
     "text": [
      "Epoch 1/20, Train Loss: 8.129851, Validation Loss: 9.200348\n",
      "Epoch 2/20, Train Loss: 7.993761, Validation Loss: 9.132939\n",
      "Epoch 3/20, Train Loss: 7.944775, Validation Loss: 9.097734\n",
      "Epoch 4/20, Train Loss: 7.917945, Validation Loss: 9.077933\n",
      "Epoch 5/20, Train Loss: 7.901137, Validation Loss: 9.063490\n",
      "Epoch 6/20, Train Loss: 7.889196, Validation Loss: 9.054485\n",
      "Epoch 7/20, Train Loss: 7.880767, Validation Loss: 9.045228\n",
      "Epoch 8/20, Train Loss: 7.873696, Validation Loss: 9.038364\n",
      "Epoch 9/20, Train Loss: 7.867354, Validation Loss: 9.033841\n",
      "Epoch 10/20, Train Loss: 7.862019, Validation Loss: 9.028880\n",
      "Epoch 11/20, Train Loss: 7.857150, Validation Loss: 9.023921\n",
      "Epoch 12/20, Train Loss: 7.852717, Validation Loss: 9.019007\n",
      "Epoch 13/20, Train Loss: 7.848453, Validation Loss: 9.015939\n",
      "Epoch 14/20, Train Loss: 7.844297, Validation Loss: 9.011107\n",
      "Epoch 15/20, Train Loss: 7.840983, Validation Loss: 9.009249\n",
      "Epoch 16/20, Train Loss: 7.837695, Validation Loss: 9.007415\n",
      "Epoch 17/20, Train Loss: 7.834878, Validation Loss: 9.004294\n",
      "Epoch 18/20, Train Loss: 7.831956, Validation Loss: 9.000084\n",
      "Epoch 19/20, Train Loss: 7.828826, Validation Loss: 9.000410\n",
      "Epoch 20/20, Train Loss: 7.827122, Validation Loss: 8.995960\n"
     ]
    }
   ],
   "source": [
    "#LSTM\n",
    "model = project_models.ntwkLSTM(input_size, hidden_size, output_size, dropout, bidirectional).to(device)\n",
    "optimizer = optim.Adam(model.parameters(), lr = 0.001)\n",
    "\n",
    "lstm_tloss, lstm_vloss, = project_models.train_RNN(epochs, model, criterion, optimizer, train_loader, test_loader, device)\n",
    "torch.save(model.state_dict(), 'LSTM_model')"
   ]
  },
  {
   "cell_type": "code",
   "execution_count": 22,
   "metadata": {},
   "outputs": [
    {
     "data": {
      "image/png": "[encoded data removed]",
      "text/plain": [
       "<Figure size 640x480 with 1 Axes>"
      ]
     },
     "metadata": {},
     "output_type": "display_data"
    }
   ],
   "source": [
    "epochs = range(1, 21)\n",
    "\n",
    "#print(len(epochs), len(rnn_tloss), len(rnn_vloss))\n",
    "\n",
    "project_models.lossplot(rnn_tloss, rnn_vloss, epochs)\n",
    "#project_models.accplot(rnn_vacc, epochs)"
   ]
  },
  {
   "cell_type": "code",
   "execution_count": 23,
   "metadata": {},
   "outputs": [
    {
     "data": {
      "image/png": "[encoded data removed]",
      "text/plain": [
       "<Figure size 640x480 with 1 Axes>"
      ]
     },
     "metadata": {},
     "output_type": "display_data"
    }
   ],
   "source": [
    "project_models.lossplot(GRU_tloss, GRU_vloss, epochs)\n",
    "#project_models.accplot(GRU_vacc, epochs)"
   ]
  },
  {
   "cell_type": "code",
   "execution_count": 24,
   "metadata": {},
   "outputs": [
    {
     "data": {
      "image/png": "[encoded data removed]",
      "text/plain": [
       "<Figure size 640x480 with 1 Axes>"
      ]
     },
     "metadata": {},
     "output_type": "display_data"
    }
   ],
   "source": [
    "project_models.lossplot(lstm_tloss, lstm_vloss, epochs)\n",
    "#project_models.accplot(lstm_vacc, epochs)"
   ]
  }
 ],
 "metadata": {
  "kernelspec": {
   "display_name": "Python 3",
   "language": "python",
   "name": "python3"
  },
  "language_info": {
   "codemirror_mode": {
    "name": "ipython",
    "version": 3
   },
   "file_extension": ".py",
   "mimetype": "text/x-python",
   "name": "python",
   "nbconvert_exporter": "python",
   "pygments_lexer": "ipython3",
   "version": "3.11.9"
  }
 },
 "nbformat": 4,
 "nbformat_minor": 2
}
